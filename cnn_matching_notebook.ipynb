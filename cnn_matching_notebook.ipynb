{
  "nbformat": 4,
  "nbformat_minor": 0,
  "metadata": {
    "colab": {
      "name": "Untitled2.ipynb",
      "provenance": [],
      "authorship_tag": "ABX9TyNNtkekWPyqEPMM5pSG3ZOz",
      "include_colab_link": true
    },
    "kernelspec": {
      "name": "python3",
      "display_name": "Python 3"
    },
    "language_info": {
      "name": "python"
    }
  },
  "cells": [
    {
      "cell_type": "markdown",
      "metadata": {
        "id": "view-in-github",
        "colab_type": "text"
      },
      "source": [
        "<a href=\"https://colab.research.google.com/github/saqib77/cnn-matching/blob/master/cnn_matching_notebook.ipynb\" target=\"_parent\"><img src=\"https://colab.research.google.com/assets/colab-badge.svg\" alt=\"Open In Colab\"/></a>"
      ]
    },
    {
      "cell_type": "code",
      "execution_count": 1,
      "metadata": {
        "colab": {
          "base_uri": "https://localhost:8080/",
          "height": 373
        },
        "id": "VbWwgUcB_Xxs",
        "outputId": "2ef3328b-b970-4e3f-bf87-7a6769eac5a1"
      },
      "outputs": [
        {
          "output_type": "error",
          "ename": "ModuleNotFoundError",
          "evalue": "ignored",
          "traceback": [
            "\u001b[0;31m---------------------------------------------------------------------------\u001b[0m",
            "\u001b[0;31mModuleNotFoundError\u001b[0m                       Traceback (most recent call last)",
            "\u001b[0;32m<ipython-input-1-e8874754efed>\u001b[0m in \u001b[0;36m<module>\u001b[0;34m()\u001b[0m\n\u001b[1;32m      3\u001b[0m \u001b[0;32mimport\u001b[0m \u001b[0mnumpy\u001b[0m \u001b[0;32mas\u001b[0m \u001b[0mnp\u001b[0m\u001b[0;34m\u001b[0m\u001b[0;34m\u001b[0m\u001b[0m\n\u001b[1;32m      4\u001b[0m \u001b[0;32mimport\u001b[0m \u001b[0mimageio\u001b[0m\u001b[0;34m\u001b[0m\u001b[0;34m\u001b[0m\u001b[0m\n\u001b[0;32m----> 5\u001b[0;31m \u001b[0;32mimport\u001b[0m \u001b[0mplotmatch\u001b[0m\u001b[0;34m\u001b[0m\u001b[0;34m\u001b[0m\u001b[0m\n\u001b[0m\u001b[1;32m      6\u001b[0m \u001b[0;32mfrom\u001b[0m \u001b[0mlib\u001b[0m\u001b[0;34m.\u001b[0m\u001b[0mcnn_feature\u001b[0m \u001b[0;32mimport\u001b[0m \u001b[0mcnn_feature_extract\u001b[0m\u001b[0;34m\u001b[0m\u001b[0;34m\u001b[0m\u001b[0m\n\u001b[1;32m      7\u001b[0m \u001b[0;32mimport\u001b[0m \u001b[0mmatplotlib\u001b[0m\u001b[0;34m.\u001b[0m\u001b[0mpyplot\u001b[0m \u001b[0;32mas\u001b[0m \u001b[0mplt\u001b[0m\u001b[0;34m\u001b[0m\u001b[0;34m\u001b[0m\u001b[0m\n",
            "\u001b[0;31mModuleNotFoundError\u001b[0m: No module named 'plotmatch'",
            "",
            "\u001b[0;31m---------------------------------------------------------------------------\u001b[0;32m\nNOTE: If your import is failing due to a missing package, you can\nmanually install dependencies using either !pip or !apt.\n\nTo view examples of installing some common dependencies, click the\n\"Open Examples\" button below.\n\u001b[0;31m---------------------------------------------------------------------------\u001b[0m\n"
          ],
          "errorDetails": {
            "actions": [
              {
                "action": "open_url",
                "actionText": "Open Examples",
                "url": "/notebooks/snippets/importing_libraries.ipynb"
              }
            ]
          }
        }
      ],
      "source": [
        "import argparse\n",
        "import cv2\n",
        "import numpy as np\n",
        "import imageio\n",
        "import plotmatch\n",
        "from lib.cnn_feature import cnn_feature_extract\n",
        "import matplotlib.pyplot as plt\n",
        "import time\n",
        "from skimage import measure\n",
        "from skimage import transform\n",
        "\n",
        "#time count\n",
        "start = time.perf_counter()\n",
        "\n",
        "_RESIDUAL_THRESHOLD = 30\n",
        "#Test1nThbg6kXUpJWGl7E1IGOCspRomTxdCARLviKw6E5SY8\n",
        "imgfile1 = 'df-ms-data/1/df-googleearth-1k-20091227.jpg'\n",
        "imgfile2 = 'df-ms-data/1/df-googleearth-1k-20181029.jpg'\n",
        "imgfile1 = 'df-ms-data/1/df-uav-sar-500.jpg'\n",
        "\n",
        "\n",
        "start = time.perf_counter()\n",
        "\n",
        "# read left image\n",
        "image1 = imageio.imread(imgfile1)\n",
        "image2 = imageio.imread(imgfile2)\n",
        "\n",
        "print('read image time is %6.3f' % (time.perf_counter() - start))\n",
        "\n",
        "start0 = time.perf_counter()\n",
        "\n",
        "kps_left, sco_left, des_left = cnn_feature_extract(image1,  nfeatures = -1)\n",
        "kps_right, sco_right, des_right = cnn_feature_extract(image2,  nfeatures = -1)\n",
        "\n",
        "print('Feature_extract time is %6.3f, left: %6.3f,right %6.3f' % ((time.perf_counter() - start), len(kps_left), len(kps_right)))\n",
        "start = time.perf_counter()\n",
        "\n",
        "#Flann特征匹配\n",
        "FLANN_INDEX_KDTREE = 1\n",
        "index_params = dict(algorithm=FLANN_INDEX_KDTREE, trees=5)\n",
        "search_params = dict(checks=40)\n",
        "flann = cv2.FlannBasedMatcher(index_params, search_params)\n",
        "matches = flann.knnMatch(des_left, des_right, k=2)\n",
        "\n",
        "goodMatch = []\n",
        "locations_1_to_use = []\n",
        "locations_2_to_use = []\n",
        "\n",
        "# 匹配对筛选\n",
        "min_dist = 1000\n",
        "max_dist = 0\n",
        "disdif_avg = 0\n",
        "# 统计平均距离差\n",
        "for m, n in matches:\n",
        "    disdif_avg += n.distance - m.distance\n",
        "disdif_avg = disdif_avg / len(matches)\n",
        "\n",
        "for m, n in matches:\n",
        "    #自适应阈值\n",
        "    if n.distance > m.distance + disdif_avg:\n",
        "        goodMatch.append(m)\n",
        "        p2 = cv2.KeyPoint(kps_right[m.trainIdx][0],  kps_right[m.trainIdx][1],  1)\n",
        "        p1 = cv2.KeyPoint(kps_left[m.queryIdx][0], kps_left[m.queryIdx][1], 1)\n",
        "        locations_1_to_use.append([p1.pt[0], p1.pt[1]])\n",
        "        locations_2_to_use.append([p2.pt[0], p2.pt[1]])\n",
        "#goodMatch = sorted(goodMatch, key=lambda x: x.distance)\n",
        "print('match num is %d' % len(goodMatch))\n",
        "locations_1_to_use = np.array(locations_1_to_use)\n",
        "locations_2_to_use = np.array(locations_2_to_use)\n",
        "\n",
        "# Perform geometric verification using RANSAC.\n",
        "_, inliers = measure.ransac((locations_1_to_use, locations_2_to_use),\n",
        "                          transform.AffineTransform,\n",
        "                          min_samples=3,\n",
        "                          residual_threshold=_RESIDUAL_THRESHOLD,\n",
        "                          max_trials=1000)\n",
        "\n",
        "print('Found %d inliers' % sum(inliers))\n",
        "\n",
        "inlier_idxs = np.nonzero(inliers)[0]\n",
        "#最终匹配结果\n",
        "matches = np.column_stack((inlier_idxs, inlier_idxs))\n",
        "print('whole time is %6.3f' % (time.perf_counter() - start0))\n",
        "\n",
        "# Visualize correspondences, and save to file.\n",
        "#1 绘制匹配连线\n",
        "plt.rcParams['savefig.dpi'] = 100 #图片像素\n",
        "plt.rcParams['figure.dpi'] = 100 #分辨率\n",
        "plt.rcParams['figure.figsize'] = (4.0, 3.0) # 设置figure_size尺寸\n",
        "_, ax = plt.subplots()\n",
        "plotmatch.plot_matches(\n",
        "    ax,\n",
        "    image1,\n",
        "    image2,\n",
        "    locations_1_to_use,\n",
        "    locations_2_to_use,\n",
        "    np.column_stack((inlier_idxs, inlier_idxs)),\n",
        "    plot_matche_points = False,\n",
        "    matchline = True,\n",
        "    matchlinewidth = 0.3)\n",
        "ax.axis('off')\n",
        "ax.set_title('')\n",
        "plt.show()"
      ]
    },
    {
      "cell_type": "markdown",
      "source": [
        "# New Section"
      ],
      "metadata": {
        "id": "Lr2M7lnC_fhX"
      }
    }
  ]
}